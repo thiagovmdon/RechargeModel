{
 "cells": [
  {
   "cell_type": "markdown",
   "id": "12f2ec13",
   "metadata": {},
   "source": [
    "### Code used for the spatial daily water-balance computation using PCRaster:\n",
    "\n",
    "#### This code is divided in two parts: \n",
    "\n",
    "#### (a) The first part shows some examples regarding the conversion and pre-processing of some of the dataset that will be used for the model computation:\n",
    "\n",
    "The code will read a total of Z .map files, and will reshape each file from a (X, Y) to a (1, X * Y), and will assing each file matrix to a different line. Therefore we will have a time-series matrix of (Z, X * Y) shape. \n",
    "\n",
    "Since the full raster matrix is too big, a clone map mask is used to convert just the grids that are from rivers and streams in the map, reducing the number of columns. \n",
    "\n",
    "Developed by: Vitor Cantarella\n",
    "\n",
    "Adjusted by: Thiago Nascimento"
   ]
  },
  {
   "cell_type": "code",
   "execution_count": 1,
   "id": "4367aec6",
   "metadata": {},
   "outputs": [
    {
     "name": "stdout",
     "output_type": "stream",
     "text": [
      "C:\\Users\\User\\OneDrive\\Projects\\Y2023\\arusha_recharge\\MarinhaGrande\\Model\\Model5_2018burnt\n"
     ]
    }
   ],
   "source": [
    "from osgeo import gdal, gdalconst\n",
    "import pcraster as pcraster\n",
    "import os\n",
    "import numpy as np\n",
    "from pcraster import *\n",
    "print(os.getcwd())"
   ]
  },
  {
   "cell_type": "markdown",
   "id": "ecc3c79c",
   "metadata": {},
   "source": [
    "Now you import the waterbalancemodel:"
   ]
  },
  {
   "cell_type": "code",
   "execution_count": 2,
   "id": "afbdb95c",
   "metadata": {},
   "outputs": [],
   "source": [
    "import waterbalancemodel as wbm"
   ]
  },
  {
   "cell_type": "markdown",
   "id": "cbe71917",
   "metadata": {},
   "source": [
    "#### (a) Pre-processing of the data:"
   ]
  },
  {
   "cell_type": "markdown",
   "id": "54443ffe",
   "metadata": {},
   "source": [
    "For this water-balance computation one needs: \n",
    "1. Landuse map;\n",
    "2. Soil types map;\n",
    "3. DEM map;\n",
    "4. Slope map;\n",
    "5. Lookup table of runoff threshould according to each landuse class;\n",
    "6. Lookup table of soil field capacity (FC) according to each soil type class;\n",
    "7. Lookup table of soil extension depth (root depth) according to each landuse class;\n",
    "8. Lookup table of crop coefficient according to each land use class;\n",
    "9. Lookup table of initial soil storage capacity (50%) according to each landuse class.  \n",
    "10. Time series of precipitation and potential evapotrasnpiration. \n",
    "\n",
    "#### Observations: \n",
    "#### (1) The lookup tables and the time-series of precipitation and PET should be provided following the standard format provided in this tutorial; \n",
    "#### (2) Usually the maps are provided in a GeoTif formart, therefore the code below shows an example of how to convert it;\n",
    "#### (3) During the pre-processing it is essential to assing the same projection system, the same resolution, and that all the maps are in the same limits."
   ]
  },
  {
   "cell_type": "markdown",
   "id": "53e05730",
   "metadata": {},
   "source": [
    "#### Function to convert a GeoTif to PCraster:"
   ]
  },
  {
   "cell_type": "code",
   "execution_count": null,
   "id": "0509dd17",
   "metadata": {},
   "outputs": [],
   "source": [
    "def ConvertToPCRaster(src_filename,dst_filename,ot,VS):\n",
    "    #Open existing dataset\n",
    "    src_ds = gdal.Open(src_filename)\n",
    "    \n",
    "    #GDAL Translate\n",
    "    dst_ds = gdal.Translate(dst_filename, src_ds, format='PCRaster', outputType=ot, metadataOptions=VS)\n",
    "    \n",
    "    #Properly close the datasets to flush to disk\n",
    "    dst_ds = None\n",
    "    src_ds = None"
   ]
  },
  {
   "cell_type": "code",
   "execution_count": null,
   "id": "3d7f9999",
   "metadata": {},
   "outputs": [],
   "source": [
    "ConvertToPCRaster(\"Data/Data/gis/landuse.tif\",\"Data/Data/gis/landuse.map\",gdalconst.GDT_Int32,\"VS_NOMINAL\")"
   ]
  },
  {
   "cell_type": "markdown",
   "id": "1758499c",
   "metadata": {},
   "source": [
    "Plot of the converted maped area:"
   ]
  },
  {
   "cell_type": "code",
   "execution_count": 10,
   "id": "9ab15cd2",
   "metadata": {},
   "outputs": [
    {
     "data": {
      "image/png": "[encoded data removed]",
      "text/plain": [
       "<Figure size 432x288 with 1 Axes>"
      ]
     },
     "metadata": {
      "needs_background": "light"
     },
     "output_type": "display_data"
    }
   ],
   "source": [
    "landuse = pcraster.readmap(\"LULC Input/landuse.map\")\n",
    "pcraster.plot(landuse)"
   ]
  },
  {
   "cell_type": "markdown",
   "id": "31dc002b",
   "metadata": {},
   "source": [
    "#### (b). Computation of the water-balance for the scenario before the fires (2001-2017):"
   ]
  },
  {
   "cell_type": "markdown",
   "id": "e5767d4e",
   "metadata": {},
   "source": [
    "In order to use the waterbalancemodel, one should organize the directory with the following folders:\n",
    "1. Climate Data: with a file for daily precipitation and another for daily PET;\n",
    "2. LULC Input: with the landuse.map file;\n",
    "3. Other input: with all the other .map and .tbl files;\n",
    "4. Output: an empty folder"
   ]
  },
  {
   "cell_type": "code",
   "execution_count": 4,
   "id": "30b9cbea",
   "metadata": {},
   "outputs": [
    {
     "name": "stdout",
     "output_type": "stream",
     "text": [
      "..........................................................................................................................................................................................................................................................................................................................................................................................................................................................................................................................................................................................................................................................................................................................................................."
     ]
    },
    {
     "data": {
      "text/plain": [
       "0"
      ]
     },
     "execution_count": 4,
     "metadata": {},
     "output_type": "execute_result"
    }
   ],
   "source": [
    "myModel = wbm.RechargeModel(\"LULC Input/landuse.map\", start_date = '2018-10-01', final_date = '2020-09-30')\n",
    "dynModelFw = wbm.DynamicFramework(myModel, lastTimeStep = 731, firstTimestep = 1)\n",
    "dynModelFw.run()"
   ]
  },
  {
   "cell_type": "code",
   "execution_count": null,
   "id": "e5ed09c5",
   "metadata": {},
   "outputs": [],
   "source": []
  }
 ],
 "metadata": {
  "kernelspec": {
   "display_name": "Python 3 (ipykernel)",
   "language": "python",
   "name": "python3"
  },
  "language_info": {
   "codemirror_mode": {
    "name": "ipython",
    "version": 3
   },
   "file_extension": ".py",
   "mimetype": "text/x-python",
   "name": "python",
   "nbconvert_exporter": "python",
   "pygments_lexer": "ipython3",
   "version": "3.10.2"
  }
 },
 "nbformat": 4,
 "nbformat_minor": 5
}
